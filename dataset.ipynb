{
  "nbformat": 4,
  "nbformat_minor": 0,
  "metadata": {
    "colab": {
      "provenance": [],
      "authorship_tag": "ABX9TyOSUcuLbf7TlodDYLKhbWcq",
      "include_colab_link": true
    },
    "kernelspec": {
      "name": "python3",
      "display_name": "Python 3"
    },
    "language_info": {
      "name": "python"
    }
  },
  "cells": [
    {
      "cell_type": "markdown",
      "metadata": {
        "id": "view-in-github",
        "colab_type": "text"
      },
      "source": [
        "<a href=\"https://colab.research.google.com/github/AliZeeshan586/labexam/blob/main/dataset.ipynb\" target=\"_parent\"><img src=\"https://colab.research.google.com/assets/colab-badge.svg\" alt=\"Open In Colab\"/></a>"
      ]
    },
    {
      "cell_type": "code",
      "execution_count": null,
      "metadata": {
        "id": "glmlAcFs0UbA"
      },
      "outputs": [],
      "source": [
        "import pandas as pd\n",
        "import numpy as np\n"
      ]
    },
    {
      "cell_type": "code",
      "source": [
        "from google.colab import drive\n",
        "drive.mount('/content/derive')"
      ],
      "metadata": {
        "colab": {
          "base_uri": "https://localhost:8080/"
        },
        "id": "XNZWSLox1Mwf",
        "outputId": "d0847174-4d26-45d4-bac3-ecb139d80d95"
      },
      "execution_count": null,
      "outputs": [
        {
          "output_type": "stream",
          "name": "stdout",
          "text": [
            "Mounted at /content/derive\n"
          ]
        }
      ]
    },
    {
      "cell_type": "code",
      "source": [
        "import pandas as pd\n",
        "df = pd.read_excel('/content/derive/MyDrive/EVEN (2).xlsx')"
      ],
      "metadata": {
        "id": "LBmcSJGm2PwO"
      },
      "execution_count": 16,
      "outputs": []
    },
    {
      "cell_type": "code",
      "source": [
        "df.head()"
      ],
      "metadata": {
        "colab": {
          "base_uri": "https://localhost:8080/",
          "height": 348
        },
        "id": "hdumA_xw4m5W",
        "outputId": "a43fcd40-e830-4a2c-aff3-c27d5c0b549c"
      },
      "execution_count": 18,
      "outputs": [
        {
          "output_type": "execute_result",
          "data": {
            "text/plain": [
              "  Booking_ID Customer_ID Destination             Travel_Dates Booking_Date  \\\n",
              "0   BKG01438    CUST5663   BANGALORE  2024-05-27 - 2025-06-02   2023-07-26   \n",
              "1   BKG02701    CUST4963     Vietnam  2024/05/02 / 2025/06/28   2024-02-05   \n",
              "2   BKG03648    cust5625       Tokyo  2023-12-02 - 2025-03-09   2024-07-17   \n",
              "3   BKG02513    CUST4246       Delhi  2023-11-10 - 2024-09-13   2024-03-15   \n",
              "4   bkg02903    CUST3901     Chennai  2023-11-09 - 2024-08-22   2023-04-09   \n",
              "\n",
              "   Number_of_Travelers Travel_Package Payment_Method  Total_Cost  \\\n",
              "0                  3.0        Premium     Debit Card    41695.84   \n",
              "1                  3.0       Standard    Credit Card    36619.85   \n",
              "2                  2.0            NaN            NaN    44543.87   \n",
              "3                  6.0         Luxury    Credit Card    41053.94   \n",
              "4                  3.0         Luxury         PayPal    36238.26   \n",
              "\n",
              "            Travel_Agent                                  Customer_Feedback  \n",
              "0               Bass Inc  Power matter brother guy. Out adult perhaps ge...  \n",
              "1             Wood Group  Position call within size than couple. Effect ...  \n",
              "2        Bridges-Collins                                                NaN  \n",
              "3  Edwards, Hill and Lee                                                NaN  \n",
              "4              Hardy Inc                                                NaN  "
            ],
            "text/html": [
              "\n",
              "  <div id=\"df-726536bf-33af-4486-9def-9e76893512f4\" class=\"colab-df-container\">\n",
              "    <div>\n",
              "<style scoped>\n",
              "    .dataframe tbody tr th:only-of-type {\n",
              "        vertical-align: middle;\n",
              "    }\n",
              "\n",
              "    .dataframe tbody tr th {\n",
              "        vertical-align: top;\n",
              "    }\n",
              "\n",
              "    .dataframe thead th {\n",
              "        text-align: right;\n",
              "    }\n",
              "</style>\n",
              "<table border=\"1\" class=\"dataframe\">\n",
              "  <thead>\n",
              "    <tr style=\"text-align: right;\">\n",
              "      <th></th>\n",
              "      <th>Booking_ID</th>\n",
              "      <th>Customer_ID</th>\n",
              "      <th>Destination</th>\n",
              "      <th>Travel_Dates</th>\n",
              "      <th>Booking_Date</th>\n",
              "      <th>Number_of_Travelers</th>\n",
              "      <th>Travel_Package</th>\n",
              "      <th>Payment_Method</th>\n",
              "      <th>Total_Cost</th>\n",
              "      <th>Travel_Agent</th>\n",
              "      <th>Customer_Feedback</th>\n",
              "    </tr>\n",
              "  </thead>\n",
              "  <tbody>\n",
              "    <tr>\n",
              "      <th>0</th>\n",
              "      <td>BKG01438</td>\n",
              "      <td>CUST5663</td>\n",
              "      <td>BANGALORE</td>\n",
              "      <td>2024-05-27 - 2025-06-02</td>\n",
              "      <td>2023-07-26</td>\n",
              "      <td>3.0</td>\n",
              "      <td>Premium</td>\n",
              "      <td>Debit Card</td>\n",
              "      <td>41695.84</td>\n",
              "      <td>Bass Inc</td>\n",
              "      <td>Power matter brother guy. Out adult perhaps ge...</td>\n",
              "    </tr>\n",
              "    <tr>\n",
              "      <th>1</th>\n",
              "      <td>BKG02701</td>\n",
              "      <td>CUST4963</td>\n",
              "      <td>Vietnam</td>\n",
              "      <td>2024/05/02 / 2025/06/28</td>\n",
              "      <td>2024-02-05</td>\n",
              "      <td>3.0</td>\n",
              "      <td>Standard</td>\n",
              "      <td>Credit Card</td>\n",
              "      <td>36619.85</td>\n",
              "      <td>Wood Group</td>\n",
              "      <td>Position call within size than couple. Effect ...</td>\n",
              "    </tr>\n",
              "    <tr>\n",
              "      <th>2</th>\n",
              "      <td>BKG03648</td>\n",
              "      <td>cust5625</td>\n",
              "      <td>Tokyo</td>\n",
              "      <td>2023-12-02 - 2025-03-09</td>\n",
              "      <td>2024-07-17</td>\n",
              "      <td>2.0</td>\n",
              "      <td>NaN</td>\n",
              "      <td>NaN</td>\n",
              "      <td>44543.87</td>\n",
              "      <td>Bridges-Collins</td>\n",
              "      <td>NaN</td>\n",
              "    </tr>\n",
              "    <tr>\n",
              "      <th>3</th>\n",
              "      <td>BKG02513</td>\n",
              "      <td>CUST4246</td>\n",
              "      <td>Delhi</td>\n",
              "      <td>2023-11-10 - 2024-09-13</td>\n",
              "      <td>2024-03-15</td>\n",
              "      <td>6.0</td>\n",
              "      <td>Luxury</td>\n",
              "      <td>Credit Card</td>\n",
              "      <td>41053.94</td>\n",
              "      <td>Edwards, Hill and Lee</td>\n",
              "      <td>NaN</td>\n",
              "    </tr>\n",
              "    <tr>\n",
              "      <th>4</th>\n",
              "      <td>bkg02903</td>\n",
              "      <td>CUST3901</td>\n",
              "      <td>Chennai</td>\n",
              "      <td>2023-11-09 - 2024-08-22</td>\n",
              "      <td>2023-04-09</td>\n",
              "      <td>3.0</td>\n",
              "      <td>Luxury</td>\n",
              "      <td>PayPal</td>\n",
              "      <td>36238.26</td>\n",
              "      <td>Hardy Inc</td>\n",
              "      <td>NaN</td>\n",
              "    </tr>\n",
              "  </tbody>\n",
              "</table>\n",
              "</div>\n",
              "    <div class=\"colab-df-buttons\">\n",
              "\n",
              "  <div class=\"colab-df-container\">\n",
              "    <button class=\"colab-df-convert\" onclick=\"convertToInteractive('df-726536bf-33af-4486-9def-9e76893512f4')\"\n",
              "            title=\"Convert this dataframe to an interactive table.\"\n",
              "            style=\"display:none;\">\n",
              "\n",
              "  <svg xmlns=\"http://www.w3.org/2000/svg\" height=\"24px\" viewBox=\"0 -960 960 960\">\n",
              "    <path d=\"M120-120v-720h720v720H120Zm60-500h600v-160H180v160Zm220 220h160v-160H400v160Zm0 220h160v-160H400v160ZM180-400h160v-160H180v160Zm440 0h160v-160H620v160ZM180-180h160v-160H180v160Zm440 0h160v-160H620v160Z\"/>\n",
              "  </svg>\n",
              "    </button>\n",
              "\n",
              "  <style>\n",
              "    .colab-df-container {\n",
              "      display:flex;\n",
              "      gap: 12px;\n",
              "    }\n",
              "\n",
              "    .colab-df-convert {\n",
              "      background-color: #E8F0FE;\n",
              "      border: none;\n",
              "      border-radius: 50%;\n",
              "      cursor: pointer;\n",
              "      display: none;\n",
              "      fill: #1967D2;\n",
              "      height: 32px;\n",
              "      padding: 0 0 0 0;\n",
              "      width: 32px;\n",
              "    }\n",
              "\n",
              "    .colab-df-convert:hover {\n",
              "      background-color: #E2EBFA;\n",
              "      box-shadow: 0px 1px 2px rgba(60, 64, 67, 0.3), 0px 1px 3px 1px rgba(60, 64, 67, 0.15);\n",
              "      fill: #174EA6;\n",
              "    }\n",
              "\n",
              "    .colab-df-buttons div {\n",
              "      margin-bottom: 4px;\n",
              "    }\n",
              "\n",
              "    [theme=dark] .colab-df-convert {\n",
              "      background-color: #3B4455;\n",
              "      fill: #D2E3FC;\n",
              "    }\n",
              "\n",
              "    [theme=dark] .colab-df-convert:hover {\n",
              "      background-color: #434B5C;\n",
              "      box-shadow: 0px 1px 3px 1px rgba(0, 0, 0, 0.15);\n",
              "      filter: drop-shadow(0px 1px 2px rgba(0, 0, 0, 0.3));\n",
              "      fill: #FFFFFF;\n",
              "    }\n",
              "  </style>\n",
              "\n",
              "    <script>\n",
              "      const buttonEl =\n",
              "        document.querySelector('#df-726536bf-33af-4486-9def-9e76893512f4 button.colab-df-convert');\n",
              "      buttonEl.style.display =\n",
              "        google.colab.kernel.accessAllowed ? 'block' : 'none';\n",
              "\n",
              "      async function convertToInteractive(key) {\n",
              "        const element = document.querySelector('#df-726536bf-33af-4486-9def-9e76893512f4');\n",
              "        const dataTable =\n",
              "          await google.colab.kernel.invokeFunction('convertToInteractive',\n",
              "                                                    [key], {});\n",
              "        if (!dataTable) return;\n",
              "\n",
              "        const docLinkHtml = 'Like what you see? Visit the ' +\n",
              "          '<a target=\"_blank\" href=https://colab.research.google.com/notebooks/data_table.ipynb>data table notebook</a>'\n",
              "          + ' to learn more about interactive tables.';\n",
              "        element.innerHTML = '';\n",
              "        dataTable['output_type'] = 'display_data';\n",
              "        await google.colab.output.renderOutput(dataTable, element);\n",
              "        const docLink = document.createElement('div');\n",
              "        docLink.innerHTML = docLinkHtml;\n",
              "        element.appendChild(docLink);\n",
              "      }\n",
              "    </script>\n",
              "  </div>\n",
              "\n",
              "\n",
              "<div id=\"df-ec16af80-e1c6-4eff-b914-bd22f361cd15\">\n",
              "  <button class=\"colab-df-quickchart\" onclick=\"quickchart('df-ec16af80-e1c6-4eff-b914-bd22f361cd15')\"\n",
              "            title=\"Suggest charts\"\n",
              "            style=\"display:none;\">\n",
              "\n",
              "<svg xmlns=\"http://www.w3.org/2000/svg\" height=\"24px\"viewBox=\"0 0 24 24\"\n",
              "     width=\"24px\">\n",
              "    <g>\n",
              "        <path d=\"M19 3H5c-1.1 0-2 .9-2 2v14c0 1.1.9 2 2 2h14c1.1 0 2-.9 2-2V5c0-1.1-.9-2-2-2zM9 17H7v-7h2v7zm4 0h-2V7h2v10zm4 0h-2v-4h2v4z\"/>\n",
              "    </g>\n",
              "</svg>\n",
              "  </button>\n",
              "\n",
              "<style>\n",
              "  .colab-df-quickchart {\n",
              "      --bg-color: #E8F0FE;\n",
              "      --fill-color: #1967D2;\n",
              "      --hover-bg-color: #E2EBFA;\n",
              "      --hover-fill-color: #174EA6;\n",
              "      --disabled-fill-color: #AAA;\n",
              "      --disabled-bg-color: #DDD;\n",
              "  }\n",
              "\n",
              "  [theme=dark] .colab-df-quickchart {\n",
              "      --bg-color: #3B4455;\n",
              "      --fill-color: #D2E3FC;\n",
              "      --hover-bg-color: #434B5C;\n",
              "      --hover-fill-color: #FFFFFF;\n",
              "      --disabled-bg-color: #3B4455;\n",
              "      --disabled-fill-color: #666;\n",
              "  }\n",
              "\n",
              "  .colab-df-quickchart {\n",
              "    background-color: var(--bg-color);\n",
              "    border: none;\n",
              "    border-radius: 50%;\n",
              "    cursor: pointer;\n",
              "    display: none;\n",
              "    fill: var(--fill-color);\n",
              "    height: 32px;\n",
              "    padding: 0;\n",
              "    width: 32px;\n",
              "  }\n",
              "\n",
              "  .colab-df-quickchart:hover {\n",
              "    background-color: var(--hover-bg-color);\n",
              "    box-shadow: 0 1px 2px rgba(60, 64, 67, 0.3), 0 1px 3px 1px rgba(60, 64, 67, 0.15);\n",
              "    fill: var(--button-hover-fill-color);\n",
              "  }\n",
              "\n",
              "  .colab-df-quickchart-complete:disabled,\n",
              "  .colab-df-quickchart-complete:disabled:hover {\n",
              "    background-color: var(--disabled-bg-color);\n",
              "    fill: var(--disabled-fill-color);\n",
              "    box-shadow: none;\n",
              "  }\n",
              "\n",
              "  .colab-df-spinner {\n",
              "    border: 2px solid var(--fill-color);\n",
              "    border-color: transparent;\n",
              "    border-bottom-color: var(--fill-color);\n",
              "    animation:\n",
              "      spin 1s steps(1) infinite;\n",
              "  }\n",
              "\n",
              "  @keyframes spin {\n",
              "    0% {\n",
              "      border-color: transparent;\n",
              "      border-bottom-color: var(--fill-color);\n",
              "      border-left-color: var(--fill-color);\n",
              "    }\n",
              "    20% {\n",
              "      border-color: transparent;\n",
              "      border-left-color: var(--fill-color);\n",
              "      border-top-color: var(--fill-color);\n",
              "    }\n",
              "    30% {\n",
              "      border-color: transparent;\n",
              "      border-left-color: var(--fill-color);\n",
              "      border-top-color: var(--fill-color);\n",
              "      border-right-color: var(--fill-color);\n",
              "    }\n",
              "    40% {\n",
              "      border-color: transparent;\n",
              "      border-right-color: var(--fill-color);\n",
              "      border-top-color: var(--fill-color);\n",
              "    }\n",
              "    60% {\n",
              "      border-color: transparent;\n",
              "      border-right-color: var(--fill-color);\n",
              "    }\n",
              "    80% {\n",
              "      border-color: transparent;\n",
              "      border-right-color: var(--fill-color);\n",
              "      border-bottom-color: var(--fill-color);\n",
              "    }\n",
              "    90% {\n",
              "      border-color: transparent;\n",
              "      border-bottom-color: var(--fill-color);\n",
              "    }\n",
              "  }\n",
              "</style>\n",
              "\n",
              "  <script>\n",
              "    async function quickchart(key) {\n",
              "      const quickchartButtonEl =\n",
              "        document.querySelector('#' + key + ' button');\n",
              "      quickchartButtonEl.disabled = true;  // To prevent multiple clicks.\n",
              "      quickchartButtonEl.classList.add('colab-df-spinner');\n",
              "      try {\n",
              "        const charts = await google.colab.kernel.invokeFunction(\n",
              "            'suggestCharts', [key], {});\n",
              "      } catch (error) {\n",
              "        console.error('Error during call to suggestCharts:', error);\n",
              "      }\n",
              "      quickchartButtonEl.classList.remove('colab-df-spinner');\n",
              "      quickchartButtonEl.classList.add('colab-df-quickchart-complete');\n",
              "    }\n",
              "    (() => {\n",
              "      let quickchartButtonEl =\n",
              "        document.querySelector('#df-ec16af80-e1c6-4eff-b914-bd22f361cd15 button');\n",
              "      quickchartButtonEl.style.display =\n",
              "        google.colab.kernel.accessAllowed ? 'block' : 'none';\n",
              "    })();\n",
              "  </script>\n",
              "</div>\n",
              "\n",
              "    </div>\n",
              "  </div>\n"
            ],
            "application/vnd.google.colaboratory.intrinsic+json": {
              "type": "dataframe",
              "variable_name": "df",
              "summary": "{\n  \"name\": \"df\",\n  \"rows\": 5250,\n  \"fields\": [\n    {\n      \"column\": \"Booking_ID\",\n      \"properties\": {\n        \"dtype\": \"string\",\n        \"num_unique_values\": 5100,\n        \"samples\": [\n          \"BKG04410\",\n          \"BKG03161\",\n          \"BKG04516\"\n        ],\n        \"semantic_type\": \"\",\n        \"description\": \"\"\n      }\n    },\n    {\n      \"column\": \"Customer_ID\",\n      \"properties\": {\n        \"dtype\": \"string\",\n        \"num_unique_values\": 4118,\n        \"samples\": [\n          \"CUST2498\",\n          \"CUST8004\",\n          \"CUST6354\"\n        ],\n        \"semantic_type\": \"\",\n        \"description\": \"\"\n      }\n    },\n    {\n      \"column\": \"Destination\",\n      \"properties\": {\n        \"dtype\": \"category\",\n        \"num_unique_values\": 858,\n        \"samples\": [\n          \"West Jamie\",\n          \"West Laurafort\",\n          \"Hungary\"\n        ],\n        \"semantic_type\": \"\",\n        \"description\": \"\"\n      }\n    },\n    {\n      \"column\": \"Travel_Dates\",\n      \"properties\": {\n        \"dtype\": \"string\",\n        \"num_unique_values\": 5013,\n        \"samples\": [\n          \"2023/09/19 / 2025/04/13\",\n          \"2023-10-26 - 2025-03-19\",\n          \"2023-12-29 - 2024-11-20\"\n        ],\n        \"semantic_type\": \"\",\n        \"description\": \"\"\n      }\n    },\n    {\n      \"column\": \"Booking_Date\",\n      \"properties\": {\n        \"dtype\": \"date\",\n        \"min\": \"2022-08-20 00:00:00\",\n        \"max\": \"2024-08-19 00:00:00\",\n        \"num_unique_values\": 731,\n        \"samples\": [\n          \"2022-12-23 00:00:00\",\n          \"2024-07-03 00:00:00\",\n          \"2022-11-24 00:00:00\"\n        ],\n        \"semantic_type\": \"\",\n        \"description\": \"\"\n      }\n    },\n    {\n      \"column\": \"Number_of_Travelers\",\n      \"properties\": {\n        \"dtype\": \"number\",\n        \"std\": 2.4915853697745103,\n        \"min\": 1.0,\n        \"max\": 10.0,\n        \"num_unique_values\": 10,\n        \"samples\": [\n          7.0,\n          2.0,\n          9.0\n        ],\n        \"semantic_type\": \"\",\n        \"description\": \"\"\n      }\n    },\n    {\n      \"column\": \"Travel_Package\",\n      \"properties\": {\n        \"dtype\": \"category\",\n        \"num_unique_values\": 3,\n        \"samples\": [\n          \"Premium\",\n          \"Standard\",\n          \"Luxury\"\n        ],\n        \"semantic_type\": \"\",\n        \"description\": \"\"\n      }\n    },\n    {\n      \"column\": \"Payment_Method\",\n      \"properties\": {\n        \"dtype\": \"category\",\n        \"num_unique_values\": 4,\n        \"samples\": [\n          \"Credit Card\",\n          \"Bank Transfer\",\n          \"Debit Card\"\n        ],\n        \"semantic_type\": \"\",\n        \"description\": \"\"\n      }\n    },\n    {\n      \"column\": \"Total_Cost\",\n      \"properties\": {\n        \"dtype\": \"number\",\n        \"std\": 27720.30432779792,\n        \"min\": 5010.98,\n        \"max\": 99979.71,\n        \"num_unique_values\": 4841,\n        \"samples\": [\n          22171.87,\n          7710.43,\n          85398.74\n        ],\n        \"semantic_type\": \"\",\n        \"description\": \"\"\n      }\n    },\n    {\n      \"column\": \"Travel_Agent\",\n      \"properties\": {\n        \"dtype\": \"string\",\n        \"num_unique_values\": 4010,\n        \"samples\": [\n          \"Johns-Campos\",\n          \"Walsh, Cross and Davies\",\n          \"Williamson PLC\"\n        ],\n        \"semantic_type\": \"\",\n        \"description\": \"\"\n      }\n    },\n    {\n      \"column\": \"Customer_Feedback\",\n      \"properties\": {\n        \"dtype\": \"category\",\n        \"num_unique_values\": 2572,\n        \"samples\": [\n          \"Spend share book soon. Begin draw Congress level. Nation compare recent buy south early.\",\n          \"Entire hundred boy property him change any. Likely purpose consumer decade.\",\n          \"Leave challenge agreement say mission. Raise question last discuss girl.\"\n        ],\n        \"semantic_type\": \"\",\n        \"description\": \"\"\n      }\n    }\n  ]\n}"
            }
          },
          "metadata": {},
          "execution_count": 18
        }
      ]
    },
    {
      "cell_type": "code",
      "source": [
        "cost_column = df['Total_Cost']"
      ],
      "metadata": {
        "id": "2r8iaAy74szM"
      },
      "execution_count": 19,
      "outputs": []
    },
    {
      "cell_type": "code",
      "source": [
        "average_cost = cost_column.mean()\n",
        "print(\"Average cost for each destination: \", average_cost)"
      ],
      "metadata": {
        "colab": {
          "base_uri": "https://localhost:8080/"
        },
        "id": "Vov0xS2e5NlM",
        "outputId": "6c532ac1-81b0-46b8-c2fd-0d933dbe8e29"
      },
      "execution_count": 26,
      "outputs": [
        {
          "output_type": "stream",
          "name": "stdout",
          "text": [
            "Average cost for each destination:  52386.53375329147\n"
          ]
        }
      ]
    },
    {
      "cell_type": "code",
      "source": [
        "payment_distribution = df[\"Payment_Method\"].value_counts()\n",
        "print(\"\\nDistribution of payment methods:\\n\", payment_distribution)"
      ],
      "metadata": {
        "colab": {
          "base_uri": "https://localhost:8080/"
        },
        "id": "kTl35T0f6_ps",
        "outputId": "978e1632-2a8f-4c57-a2f2-dce3bf23c2cb"
      },
      "execution_count": 27,
      "outputs": [
        {
          "output_type": "stream",
          "name": "stdout",
          "text": [
            "\n",
            "Distribution of payment methods:\n",
            " Payment_Method\n",
            "Credit Card      1088\n",
            "Debit Card       1058\n",
            "PayPal           1033\n",
            "Bank Transfer     982\n",
            "Name: count, dtype: int64\n"
          ]
        }
      ]
    },
    {
      "cell_type": "code",
      "source": [
        "unique_destinations = df[\"Destination\"].nunique()\n",
        "print(\"\\nNumber of unique destinations:\", unique_destinations)"
      ],
      "metadata": {
        "colab": {
          "base_uri": "https://localhost:8080/"
        },
        "id": "SZB4zrkH7C4r",
        "outputId": "089dc68d-7887-418e-db29-808755327dec"
      },
      "execution_count": 28,
      "outputs": [
        {
          "output_type": "stream",
          "name": "stdout",
          "text": [
            "\n",
            "Number of unique destinations: 858\n"
          ]
        }
      ]
    },
    {
      "cell_type": "code",
      "source": [
        "missing_values = df[[\"Travel_Package\", \"Payment_Method\", \"Travel_Agent\"]].isnull().sum()\n",
        "print(\"\\nMissing values in key columns:\\n\", missing_values)\n"
      ],
      "metadata": {
        "colab": {
          "base_uri": "https://localhost:8080/"
        },
        "id": "CdQwygEX7NBc",
        "outputId": "338ca735-ba88-4063-b7d8-333159342455"
      },
      "execution_count": 30,
      "outputs": [
        {
          "output_type": "stream",
          "name": "stdout",
          "text": [
            "\n",
            "Missing values in key columns:\n",
            " Travel_Package    1481\n",
            "Payment_Method    1089\n",
            "Travel_Agent       779\n",
            "dtype: int64\n"
          ]
        }
      ]
    }
  ]
}